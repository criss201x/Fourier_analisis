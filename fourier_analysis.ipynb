{
 "cells": [
  {
   "cell_type": "markdown",
   "metadata": {},
   "source": [
    "# Workshop III"
   ]
  },
  {
   "cell_type": "markdown",
   "metadata": {},
   "source": [
    "Created by **Cristian alape** and **Viviana mora**."
   ]
  },
  {
   "cell_type": "code",
   "execution_count": 5,
   "metadata": {},
   "outputs": [],
   "source": [
    "import sys  \n",
    "sys.path.insert(0,'/home/cristian/Fourier_analysis/makelab')\n",
    "from makelab import signal\n",
    "import ipywidgets\n",
    "import IPython.display as ipd"
   ]
  },
  {
   "cell_type": "markdown",
   "metadata": {},
   "source": [
    "## 1. Creando una señal de tono C (261.6256 Hz) Podrá escuchar el tono"
   ]
  },
  {
   "cell_type": "code",
   "execution_count": 6,
   "metadata": {},
   "outputs": [],
   "source": [
    "sampling_rate = 16000 #frecuencia de muestreo \n",
    "total_time_in_secs = 0.5 #duracion de la señal\n",
    "freq = 261.6256 #frecuencia de un piano \n",
    "\n",
    "c4_signal = makelab.signal.create_sine_wave(freq, sampling_rate,total_time_in_secs) "
   ]
  },
  {
   "cell_type": "markdown",
   "metadata": {},
   "source": [
    "### Plot con Zoom aumentado "
   ]
  },
  {
   "cell_type": "code",
   "execution_count": 1,
   "metadata": {},
   "outputs": [
    {
     "ename": "NameError",
     "evalue": "name 'freq' is not defined",
     "output_type": "error",
     "traceback": [
      "\u001b[1;31m---------------------------------------------------------------------------\u001b[0m",
      "\u001b[1;31mNameError\u001b[0m                                 Traceback (most recent call last)",
      "\u001b[1;32m<ipython-input-1-538fa8f3bae4>\u001b[0m in \u001b[0;36m<module>\u001b[1;34m\u001b[0m\n\u001b[0;32m      1\u001b[0m \u001b[1;31m#1. Creación de una señal de tono C (261,6256 Hz)\u001b[0m\u001b[1;33m\u001b[0m\u001b[1;33m\u001b[0m\u001b[1;33m\u001b[0m\u001b[0m\n\u001b[0;32m      2\u001b[0m \u001b[0mzoom_show_num_periods\u001b[0m \u001b[1;33m=\u001b[0m \u001b[1;36m3\u001b[0m\u001b[1;33m\u001b[0m\u001b[1;33m\u001b[0m\u001b[0m\n\u001b[1;32m----> 3\u001b[1;33m \u001b[0mxlim_zoom\u001b[0m \u001b[1;33m=\u001b[0m \u001b[1;33m(\u001b[0m\u001b[1;36m0\u001b[0m\u001b[1;33m,\u001b[0m \u001b[0mzoom_show_num_periods\u001b[0m \u001b[1;33m*\u001b[0m \u001b[1;36m1\u001b[0m \u001b[1;33m/\u001b[0m \u001b[0mfreq\u001b[0m \u001b[1;33m*\u001b[0m \u001b[0msampling_rate\u001b[0m\u001b[1;33m)\u001b[0m\u001b[1;33m\u001b[0m\u001b[1;33m\u001b[0m\u001b[0m\n\u001b[0m\u001b[0;32m      4\u001b[0m \u001b[1;33m\u001b[0m\u001b[0m\n\u001b[0;32m      5\u001b[0m \u001b[0mtitle\u001b[0m \u001b[1;33m=\u001b[0m \u001b[1;34m\"C4 (Middle C) at 261.6256 Hz\"\u001b[0m\u001b[1;33m\u001b[0m\u001b[1;33m\u001b[0m\u001b[0m\n",
      "\u001b[1;31mNameError\u001b[0m: name 'freq' is not defined"
     ]
    }
   ],
   "source": [
    "#1. Creación de una señal de tono C (261,6256 Hz) \n",
    "zoom_show_num_periods = 3\n",
    "xlim_zoom = (0, zoom_show_num_periods * 1 / freq * sampling_rate)\n",
    "\n",
    "title = \"C4 (Middle C) at 261.6256 Hz\"\n",
    "makelab.signal.plot_signal(c4_signal, sampling_rate, title = title, xlim_zoom = xlim_zoom)\n",
    "ipd.Audio(c4_signal , rate=sampling_rate)"
   ]
  },
  {
   "cell_type": "markdown",
   "metadata": {},
   "source": [
    "## Create a tone for the A4 (440 Hz) a Tenor C (523.2511) and A5 (880 Hz)."
   ]
  },
  {
   "cell_type": "code",
   "execution_count": null,
   "metadata": {},
   "outputs": [],
   "source": [
    "#1.1 Create a tone for the A4 (440 Hz) a Tenor C (523.2511) and A5 (880 Hz).\n",
    "\n",
    "freq = 440\n",
    "A4_signal = makelab.signal.create_sine_wave(freq, sampling_rate,total_time_in_secs) \n",
    "\n",
    "title = \"A4 at 440 Hz\"\n",
    "makelab.signal.plot_signal(A4_signal, sampling_rate, title = title, xlim_zoom = xlim_zoom)\n",
    "ipd.Audio(A4_signal, rate=sampling_rate)\n"
   ]
  },
  {
   "cell_type": "code",
   "execution_count": null,
   "metadata": {},
   "outputs": [],
   "source": [
    "freq = 523.2511\n",
    "C_signal = makelab.signal.create_sine_wave(freq, sampling_rate,total_time_in_secs) \n",
    "\n",
    "title = \"C at 523.2511 Hz\"\n",
    "makelab.signal.plot_signal(C_signal, sampling_rate, title = title, xlim_zoom = xlim_zoom)\n",
    "\n",
    "ipd.Audio(C_signal, rate=sampling_rate)\n"
   ]
  },
  {
   "cell_type": "code",
   "execution_count": null,
   "metadata": {},
   "outputs": [],
   "source": [
    "freq = 880\n",
    "A5_signal = makelab.signal.create_sine_wave(freq, sampling_rate,total_time_in_secs)\n",
    "\n",
    "title = \"A5 at 880 Hz\"\n",
    "makelab.signal.plot_signal(A5_signal, sampling_rate, title = title, xlim_zoom = xlim_zoom)\n",
    "\n",
    "ipd.Audio(A5_signal, rate=sampling_rate)"
   ]
  },
  {
   "cell_type": "markdown",
   "metadata": {},
   "source": [
    "## 2. Create chords by adding the signals and divide the addition by n being n the number of signals involved. You can do p.e. A4 + A5 or Tenor C + A5 + C. Visualize and play"
   ]
  },
  {
   "cell_type": "code",
   "execution_count": null,
   "metadata": {},
   "outputs": [],
   "source": [
    "#2. Create chords by adding the signals and divide the addition by n being n the number of signals involved. You\n",
    "# can do p.e. A4 + A5 or Tenor C + A5 + C. Visualize and play\n",
    "\n",
    "signal_A4A5=A4_signal+A5_signal\n",
    "title = \"A4 + A5\"\n",
    "makelab.signal.plot_signal(signal_A4A5, sampling_rate, title = title, xlim_zoom = xlim_zoom)\n",
    "\n",
    "ipd.Audio(signal_A4A5, rate=sampling_rate)"
   ]
  },
  {
   "cell_type": "code",
   "execution_count": null,
   "metadata": {},
   "outputs": [],
   "source": [
    "\n",
    "signal_CA5C=C_signal+A5_signal+C_signal\n",
    "title = \"C + A5 + C\"\n",
    "makelab.signal.plot_signal(signal_CA5C, sampling_rate, title = title, xlim_zoom = xlim_zoom)\n",
    "\n",
    "ipd.Audio(signal_CA5C, rate=sampling_rate)"
   ]
  },
  {
   "cell_type": "markdown",
   "metadata": {},
   "source": [
    "## 3. Crate a full chord by adding all created tones. Visualize and play."
   ]
  },
  {
   "cell_type": "code",
   "execution_count": null,
   "metadata": {},
   "outputs": [],
   "source": [
    "# 3. Crate a full chord by adding all created tones. Visualize and play\n",
    "signal_final=signal_A4A5+signal_CA5C+signal_A4A5\n",
    "title = \"A4 + A5 + C + A5 + C + A4 + A5\"\n",
    "makelab.signal.plot_signal(signal_final, sampling_rate, title = title, xlim_zoom = xlim_zoom)\n",
    "ipd.Audio(signal_final, rate=sampling_rate)"
   ]
  },
  {
   "cell_type": "markdown",
   "metadata": {},
   "source": [
    "## 4. Emphasize one or two of your signals by randomly modifying the amplitude of one or many of the tones. p.e. \n",
    "## my_chord = 0.6*A4 + 0.4*Tenor C. Recall that the addition of your signals’ amplitude must add to 1. Visualize ## and play."
   ]
  },
  {
   "cell_type": "code",
   "execution_count": null,
   "metadata": {},
   "outputs": [],
   "source": [
    "my_chord=0.6*A4_signal+0.4*C_signal\n",
    "title = \"Amplitude 0.6 A4 + Amplitude 0.4 C\"\n",
    "makelab.signal.plot_signal(signal_final, sampling_rate, title = title, xlim_zoom = xlim_zoom)\n",
    "ipd.Audio(my_chord, rate=sampling_rate)"
   ]
  },
  {
   "cell_type": "markdown",
   "metadata": {},
   "source": [
    "## 5. Find on internet the frequency of the other tones and create a function that can return you the C4, E4, G4."
   ]
  },
  {
   "cell_type": "code",
   "execution_count": null,
   "metadata": {},
   "outputs": [],
   "source": [
    "#C4= 261,626  E4=329,628, G4= 391,995 \n",
    "c4_signal = makelab.signal.create_sine_wave(261.6256, sampling_rate, total_time_in_secs)\n",
    "e4_signal = makelab.signal.create_sine_wave(329.6276, sampling_rate, total_time_in_secs)\n",
    "g4_signal = makelab.signal.create_sine_wave(391.9954, sampling_rate, total_time_in_secs)\n",
    "your_chord = c4_signal + e4_signal + g4_signal\n",
    "your_chord = your_chord / 3 # normalize by dividing by number of signals to get -1 to 1 waveform\n",
    "\n",
    "zoom_show_num_periods = 3\n",
    "xlim_zoom = (0, zoom_show_num_periods * 1 / 195.9977 * sampling_rate)\n",
    "\n",
    "makelab.signal.plot_signal(c4_signal, sampling_rate, title = \"C4 261.6256 Hz\", xlim_zoom = xlim_zoom)\n",
    "makelab.signal.plot_signal(e4_signal, sampling_rate, title = \"E4 329.6276 Hz\", xlim_zoom = xlim_zoom)\n",
    "makelab.signal.plot_signal(g4_signal, sampling_rate, title = \"G4 391.9954 Hz\", xlim_zoom = xlim_zoom)\n",
    "makelab.signal.plot_signal(your_chord, sampling_rate, title = \"C4, E4, G4\", xlim_zoom = xlim_zoom)\n",
    "\n",
    "ipd.Audio(your_chord, rate=sampling_rate)"
   ]
  },
  {
   "cell_type": "markdown",
   "metadata": {},
   "source": [
    "## 6. Create a function that receives tones and allows you create chords. The arguments are two arrays. One array received the frequencies and the other array the amplifications. \n",
    "## For each frequency must be an amplifications and amplifications must add to 1."
   ]
  },
  {
   "cell_type": "code",
   "execution_count": null,
   "metadata": {},
   "outputs": [],
   "source": [
    "def compute_fft(s, sampling_rate, n = None, scale_amplitudes = True):\n",
    "    '''Computes an FFT on signal s using numpy.fft.fft.\n",
    "    \n",
    "       Parameters:\n",
    "        s (np.array): the signal\n",
    "        sampling_rate (num): sampling rate\n",
    "        n (integer): If n is smaller than the length of the input, the input is cropped. If n is \n",
    "            larger, the input is padded with zeros. If n is not given, the length of the input signal \n",
    "            is used (i.e., len(s))\n",
    "        scale_amplitudes (boolean): If true, the spectrum amplitudes are scaled by 2/len(s)\n",
    "    '''\n",
    "    if n == None:\n",
    "        n = len(s)\n",
    "        \n",
    "    fft_result = np.fft.fft(s, n)\n",
    "    num_freq_bins = len(fft_result)\n",
    "    fft_freqs = np.fft.fftfreq(num_freq_bins, d = 1 / sampling_rate)\n",
    "    half_freq_bins = num_freq_bins // 2\n",
    "\n",
    "    fft_freqs = fft_freqs[:half_freq_bins]\n",
    "    fft_result = fft_result[:half_freq_bins]\n",
    "    fft_amplitudes = np.abs(fft_result)\n",
    "    \n",
    "    if scale_amplitudes is True:\n",
    "        fft_amplitudes = 2 * fft_amplitudes / (len(s))\n",
    "    \n",
    "    return (fft_freqs, fft_amplitudes)\n",
    "\n",
    "def get_freq_and_amplitude_csv(freqs, amplitudes):\n",
    "    '''Convenience function to convert a freq and amplitude array to a csv string'''\n",
    "    freq_peaks_with_amplitudes_csv = \"\"\n",
    "    for i in range(len(freqs)):\n",
    "        freq_peaks_with_amplitudes_csv += f\"{freqs[i]} Hz ({amplitudes[i]:0.2f})\"\n",
    "        if i + 1 is not len(freqs):\n",
    "            freq_peaks_with_amplitudes_csv += \", \"\n",
    "    return freq_peaks_with_amplitudes_csv\n",
    "\n",
    "def get_top_n_frequency_peaks(n, freqs, amplitudes, min_amplitude_threshold = None):\n",
    "    ''' Finds the top N frequencies and returns a sorted list of tuples (freq, amplitudes) '''\n",
    "    \n",
    "    # Use SciPy signal.find_peaks to find the frequency peaks\n",
    "    # TODO: in future, could add in support for min horizontal distance so we don't find peaks close together\n",
    "    fft_peaks_indices, fft_peaks_props = sp.signal.find_peaks(amplitudes, height = min_amplitude_threshold)\n",
    "    \n",
    "    freqs_at_peaks = freqs[fft_peaks_indices]\n",
    "    amplitudes_at_peaks = amplitudes[fft_peaks_indices]\n",
    "    \n",
    "    if n < len(amplitudes_at_peaks):\n",
    "        ind = np.argpartition(amplitudes_at_peaks, -n)[-n:] # from https://stackoverflow.com/a/23734295\n",
    "        ind_sorted_by_coef = ind[np.argsort(-amplitudes_at_peaks[ind])] # reverse sort indices\n",
    "    else:\n",
    "        ind_sorted_by_coef = np.argsort(-amplitudes_at_peaks)\n",
    "\n",
    "    return_list = list(zip(freqs_at_peaks[ind_sorted_by_coef], amplitudes_at_peaks[ind_sorted_by_coef]))\n",
    "    return return_list\n",
    "\n",
    "def get_top_n_frequencies(n, freqs, amplitudes, min_amplitude_threshold = None):\n",
    "    '''\n",
    "    Gets the top N frequencies: a sorted list of tuples (freq, amplitudes)\n",
    "    \n",
    "    This is a rather naive implementation. For a better implementation, see get_top_n_frequency_peaks\n",
    "    \n",
    "    '''\n",
    "    \n",
    "    #print(amplitudes)\n",
    "    if min_amplitude_threshold is not None:\n",
    "        amplitude_indices = np.where(amplitudes >= min_amplitude_threshold)\n",
    "        amplitudes = amplitudes[amplitude_indices]\n",
    "        freqs = freqs[amplitude_indices]\n",
    "        \n",
    "    if n < len(amplitudes):\n",
    "        ind = np.argpartition(amplitudes, -n)[-n:] # from https://stackoverflow.com/a/23734295\n",
    "        ind_sorted_by_coef = ind[np.argsort(-amplitudes[ind])] # reverse sort indices\n",
    "    else:\n",
    "        ind_sorted_by_coef = np.argsort(-amplitudes)\n",
    "\n",
    "    return_list = list(zip(freqs[ind_sorted_by_coef], amplitudes[ind_sorted_by_coef]))\n",
    "    return return_list\n",
    "\n",
    "def calc_and_plot_xcorr_dft_with_ground_truth(s, sampling_rate, \n",
    "                                              time_domain_graph_title = None,\n",
    "                                              xcorr_freq_step_size = None,\n",
    "                                              xcorr_comparison_signal_length_in_secs = 0.5,\n",
    "                                              normalize_xcorr_result = True,\n",
    "                                              include_annotations = True,\n",
    "                                              minimum_freq_amplitude = 0.08,\n",
    "                                              y_axis_amplitude = True,\n",
    "                                              fft_pad_to = None):\n",
    "    '''\n",
    "    Calculates and plots a \"brute force\" DFT using cross correlation along with a ground truth\n",
    "    DFT using matplotlib's magnitude_spectrum method.\n",
    "    \n",
    "    Parameters:\n",
    "        s (np.array): the signal\n",
    "        sampling_rate (num): sampling rate\n",
    "        xcorr_comparison_signal_length_in_secs (float): specifies the time for the comparison signals (500ms is default)\n",
    "        xcorr_freq_step_size (float): the step size to use for enumerating frequencies\n",
    "            for the cross-correlation method of DFT. For example, setting this to 0.1, will enumerate\n",
    "            frequencies with a step size of 0.1 from 1 to nyquist_limit. If None, defaults to step\n",
    "            size of 1\n",
    "        normalize_xcorr_result (boolean): if True, defaults to normalization. Otherwise, not.\n",
    "        y_axis_amplitude (boolean): if True, normalizes the spectrum transform to show amplitudes\n",
    "    '''\n",
    "    \n",
    "    total_time_in_secs = len(s) / sampling_rate\n",
    "    \n",
    "    # Enumerate through frequencies from 1 to the nyquist limit\n",
    "    # and run a cross-correlation comparing each freq to the signal\n",
    "    freq_and_correlation_results = [] # tuple of (freq, max correlation result)\n",
    "    nyquist_limit = sampling_rate // 2\n",
    "    \n",
    "    freq_step_size = 1\n",
    "    freq_seq_iter = range(1, nyquist_limit)\n",
    "    if xcorr_freq_step_size is not None:\n",
    "        freq_seq_iter = np.arange(1, nyquist_limit, xcorr_freq_step_size)\n",
    "        freq_step_size = xcorr_freq_step_size\n",
    "    \n",
    "    progress_bar = ipywidgets.FloatProgress(value=1, min=1, max=nyquist_limit)\n",
    "    ipd.display(progress_bar)\n",
    "    num_comparisons = 0\n",
    "    for test_freq in freq_seq_iter:\n",
    "        signal_to_test = makelab.signal.create_sine_wave(test_freq, \n",
    "                                                         sampling_rate, \n",
    "                                                         xcorr_comparison_signal_length_in_secs)\n",
    "        correlate_result = np.correlate(s, signal_to_test, 'full')\n",
    "\n",
    "        # Add in the tuple of test_freq, max correlation result value\n",
    "        freq_and_correlation_results.append((test_freq, np.max(correlate_result)))\n",
    "        \n",
    "        num_comparisons += 1\n",
    "        progress_bar.value += freq_step_size\n",
    "\n",
    "    # The `freq_and_correlation_results` is a list of tuple results with (freq, correlation result)\n",
    "    # Unpack this tuple list into two separate lists freqs, and correlation_results\n",
    "    correlation_freqs, correlation_results = list(zip(*freq_and_correlation_results))\n",
    "    \n",
    "    correlation_freqs = np.array(correlation_freqs)\n",
    "    correlation_results = np.array(correlation_results)\n",
    "    correlation_results_original = correlation_results\n",
    "    \n",
    "    cross_correlation_ylabel = \"Cross-correlation result\"\n",
    "    if normalize_xcorr_result:\n",
    "        correlation_results = correlation_results / (nyquist_limit - 1)\n",
    "        cross_correlation_ylabel += \" (normalized)\"\n",
    "        \n",
    "    if y_axis_amplitude:\n",
    "        correlation_results = (correlation_results_original / (nyquist_limit - 1)) * 2\n",
    "        cross_correlation_ylabel = \"Frequency Amplitude\"\n",
    "\n",
    "    # Plotting\n",
    "    fig, axes = plt.subplots(3, 1, figsize=(15, 12))\n",
    "\n",
    "    # Plot the signal in the time domain\n",
    "    makelab.signal.plot_signal_to_axes(axes[0], s, sampling_rate, title = time_domain_graph_title)\n",
    "    axes[0].set_title(axes[0].get_title(), y=1.2)\n",
    "\n",
    "    # Plot the signal correlations (our brute force approach)\n",
    "    axes[1].plot(correlation_freqs, correlation_results)\n",
    "    axes[1].set_title(\"Brute force DFT using cross correlation\")\n",
    "    axes[1].set_xlabel(\"Frequency\")\n",
    "    axes[1].set_ylabel(cross_correlation_ylabel)\n",
    "\n",
    "    # Plot the \"ground truth\" via an FFT\n",
    "    # https://matplotlib.org/3.1.1/api/_as_gen/matplotlib.pyplot.magnitude_spectrum.html\n",
    "    # Use zero padding to obtain a more accurate estimate of the sinusoidal amplitudes\n",
    "    # See: https://www.mathworks.com/help/signal/ug/amplitude-estimation-and-zero-padding.html\n",
    "    if fft_pad_to is None:\n",
    "        fft_pad_to = len(s) * 4\n",
    "    elif fft_pad_to == 0:\n",
    "        fft_pad_to = None\n",
    "    \n",
    "    fft_spectrum, fft_freqs, line = axes[2].magnitude_spectrum(s, Fs = sampling_rate, color='r',\n",
    "                                                                   pad_to = fft_pad_to)\n",
    "    if y_axis_amplitude:\n",
    "        # By default, the magnitude_spectrum plots half amplitudes (perhaps because it's\n",
    "        # showing only one-half of the full FFT (the positive frequencies). But there is not\n",
    "        # way to control this to show full amplitudes by passing in a normalization parameter\n",
    "        # So, instead, we'll do it by hand here (delete the old line and plot the normalized spectrum)\n",
    "        line.remove()\n",
    "        fft_spectrum = np.array(fft_spectrum) * 2\n",
    "        axes[2].plot(fft_freqs, fft_spectrum, color = 'r')\n",
    "        axes[2].set_ylabel(\"Frequency Amplitude\")\n",
    "    \n",
    "    axes[2].set_title(\"Using built-in FFT via matplotlib.pyplot.magnitude_spectrum\")\n",
    "\n",
    "    # Find the number of peaks\n",
    "    # https://docs.scipy.org/doc/scipy/reference/generated/scipy.signal.find_peaks_cwt.html\n",
    "    # Du et al., Improved Peak Detection, Bioinformatics: https://academic.oup.com/bioinformatics/article/22/17/2059/274284\n",
    "    # https://docs.scipy.org/doc/scipy/reference/generated/scipy.signal.find_peaks.html\n",
    "    xcorr_dft_peaks_indices, xcorr_dft_peaks_props = sp.signal.find_peaks(correlation_results, height = minimum_freq_amplitude)\n",
    "    xcorr_freq_peaks = correlation_freqs[xcorr_dft_peaks_indices]\n",
    "    xcorr_freq_peak_amplitudes = correlation_results[xcorr_dft_peaks_indices]\n",
    "    xcorr_freq_peaks_csv = \", \".join(map(str, xcorr_freq_peaks))\n",
    "    xcorr_freq_peaks_with_amplitudes_csv = get_freq_and_amplitude_csv(xcorr_freq_peaks, xcorr_freq_peak_amplitudes)\n",
    "    xcorr_freq_peaks_array_str = [f\"{freq} Hz\" for freq in xcorr_freq_peaks]\n",
    "    \n",
    "    fft_peaks_indices, fft_peaks_props = sp.signal.find_peaks(fft_spectrum, height = minimum_freq_amplitude)\n",
    "    fft_freq_peaks = fft_freqs[fft_peaks_indices]\n",
    "    fft_freq_peaks_amplitudes = fft_spectrum[fft_peaks_indices]\n",
    "    fft_freq_peaks_csv = \", \".join(map(str, fft_freq_peaks))\n",
    "    fft_freq_peaks_with_amplitudes_csv = get_freq_and_amplitude_csv(fft_freq_peaks, fft_freq_peaks_amplitudes)\n",
    "    fft_freq_peaks_array_str = [f\"{freq} Hz\" for freq in fft_freq_peaks]\n",
    "    \n",
    "    # Print out frequency analysis info and annotate plots\n",
    "    if include_annotations:\n",
    "        axes[1].plot(xcorr_freq_peaks, xcorr_freq_peak_amplitudes, linestyle='None', marker=\"x\", color=\"red\", alpha=0.8)\n",
    "        for i in range(len(xcorr_freq_peaks)):\n",
    "            axes[1].text(xcorr_freq_peaks[i] + 2, xcorr_freq_peak_amplitudes[i], f\"{xcorr_freq_peaks[i]} Hz\", color=\"red\")\n",
    "            \n",
    "        axes[2].plot(fft_freq_peaks, fft_freq_peaks_amplitudes, linestyle='None', marker=\"x\", color=\"black\", alpha=0.8)\n",
    "        for i in range(len(fft_freq_peaks)):\n",
    "            axes[2].text(fft_freq_peaks[i] + 2, fft_freq_peaks_amplitudes[i], f\"{fft_freq_peaks[i]} Hz\", color=\"black\")\n",
    "    \n",
    "    print(\"**Brute force cross-correlation DFT**\")\n",
    "    print(f\"Num cross correlations: {num_comparisons}\")\n",
    "    print(f\"Frequency step resolution for cross correlation: {freq_step_size}\")\n",
    "    print(f\"Found {len(xcorr_dft_peaks_indices)} freq peak(s) at: {xcorr_freq_peaks_csv} Hz\")\n",
    "    print(f\"The minimum peak amplitude threshold set to: {minimum_freq_amplitude}\")\n",
    "    print(f\"Freq and amplitudes: {xcorr_freq_peaks_with_amplitudes_csv} Hz\")\n",
    "\n",
    "    print(\"\")\n",
    "    print(\"**Ground truth FFT**\")\n",
    "    print(f\"Num FFT freq bins: {len(fft_freqs)}\")\n",
    "    print(f\"FFT Freq bin spacing: {fft_freqs[1] - fft_freqs[0]}\")\n",
    "    print(f\"Found {len(fft_peaks_indices)} freq peak(s) at: {fft_freq_peaks_csv} Hz\")\n",
    "    print(f\"The minimum peak amplitude threshold set to: {minimum_freq_amplitude}\")\n",
    "    print(f\"Freq and amplitudes: {fft_freq_peaks_with_amplitudes_csv} Hz\")\n",
    "    #print(fft_freqs[fft_peaks_indices] + \"Hz\")\n",
    "   \n",
    "    fig.tight_layout(pad=2)\n",
    "    return (fig, axes, correlation_freqs, correlation_results, fft_freqs, fft_spectrum)"
   ]
  },
  {
   "cell_type": "code",
   "execution_count": null,
   "metadata": {},
   "outputs": [],
   "source": [
    "sampling_rate = 16000\n",
    "total_time_in_secs = 0.5\n",
    "\n",
    "freq1 = 10\n",
    "freq2 = 42\n",
    "freq3 = 151\n",
    "\n",
    "signal1 = makelab.signal.create_sine_wave(freq1, sampling_rate, total_time_in_secs)\n",
    "signal2 = makelab.signal.create_sine_wave(freq2, sampling_rate, total_time_in_secs)\n",
    "signal3 = makelab.signal.create_sine_wave(freq3, sampling_rate, total_time_in_secs)\n",
    "\n",
    "signal_composite = signal1 + signal2 + signal3\n",
    "time_domain_title = f\"Signal with freqs {freq1}Hz, {freq2}Hz, and {freq3}Hz sampled at 800Hz (length: {total_time_in_secs}s)\"\n",
    "calc_and_plot_xcorr_dft_with_ground_truth(signal_composite, sampling_rate, time_domain_graph_title = time_domain_title);"
   ]
  },
  {
   "cell_type": "code",
   "execution_count": null,
   "metadata": {},
   "outputs": [],
   "source": [
    "ipd.Audio(signal1 , rate=sampling_rate) "
   ]
  },
  {
   "cell_type": "code",
   "execution_count": null,
   "metadata": {},
   "outputs": [],
   "source": [
    "ipd.Audio(signal2 , rate=sampling_rate)"
   ]
  },
  {
   "cell_type": "code",
   "execution_count": null,
   "metadata": {},
   "outputs": [],
   "source": [
    "ipd.Audio(signal3 , rate=sampling_rate)"
   ]
  },
  {
   "cell_type": "code",
   "execution_count": null,
   "metadata": {},
   "outputs": [],
   "source": [
    "ipd.Audio(signal_composite , rate=sampling_rate)"
   ]
  },
  {
   "cell_type": "markdown",
   "metadata": {},
   "source": [
    "## 7. Use the DFFT analysis to visualize your chords and pure tones. Grades will be provided as first arrived, first served."
   ]
  },
  {
   "cell_type": "code",
   "execution_count": null,
   "metadata": {},
   "outputs": [],
   "source": [
    "signal_composite = 0.8 * signal1 + 0.1 * signal2 + 0.1 * signal3\n",
    "time_domain_title = f\"0.8 * {freq1}Hz, 0.1 * {freq2}Hz, and 0.1 * {freq3}Hz sampled at 800Hz (length: {total_time_in_secs}s)\"\n",
    "calc_and_plot_xcorr_dft_with_ground_truth(signal_composite, sampling_rate, \n",
    "                                                time_domain_graph_title = time_domain_title);"
   ]
  },
  {
   "cell_type": "code",
   "execution_count": null,
   "metadata": {},
   "outputs": [],
   "source": [
    "ipd.Audio(signal_composite , rate=sampling_rate)"
   ]
  },
  {
   "cell_type": "code",
   "execution_count": null,
   "metadata": {},
   "outputs": [],
   "source": [
    "signal_composite = 0.2 * signal1 + 0.2 * signal2 + 0.6 * signal3\n",
    "time_domain_title = f\"0.2 * {freq1}Hz, 0.2 * {freq2}Hz, and 0.6 * {freq3}Hz sampled at 800Hz (length: {total_time_in_secs}s)\"\n",
    "calc_and_plot_xcorr_dft_with_ground_truth(signal_composite, sampling_rate, \n",
    "                                                time_domain_graph_title = time_domain_title);"
   ]
  },
  {
   "cell_type": "code",
   "execution_count": null,
   "metadata": {},
   "outputs": [],
   "source": [
    "ipd.Audio(signal_composite , rate=sampling_rate)"
   ]
  },
  {
   "cell_type": "code",
   "execution_count": null,
   "metadata": {},
   "outputs": [],
   "source": [
    "freq4 = 222\n",
    "freq5 = 347\n",
    "\n",
    "signal4 = makelab.signal.create_sine_wave(freq4, sampling_rate, total_time_in_secs)\n",
    "signal5 = makelab.signal.create_sine_wave(freq5, sampling_rate, total_time_in_secs)\n",
    "\n",
    "signal_composite = 0.5 * signal1 + 0.3 * signal2 + 0.2 * signal3 + 1 * signal4 + 0.8 * signal5\n",
    "time_domain_title = f\"5-frequency signal sampled at 800Hz (length: {total_time_in_secs}s)\"\n",
    "calc_and_plot_xcorr_dft_with_ground_truth(signal_composite, sampling_rate, \n",
    "                                                time_domain_graph_title = time_domain_title);"
   ]
  },
  {
   "cell_type": "code",
   "execution_count": null,
   "metadata": {},
   "outputs": [],
   "source": [
    "ipd.Audio(signal4 , rate=sampling_rate)"
   ]
  },
  {
   "cell_type": "code",
   "execution_count": null,
   "metadata": {},
   "outputs": [],
   "source": [
    "ipd.Audio(signal5 , rate=sampling_rate)"
   ]
  },
  {
   "cell_type": "code",
   "execution_count": null,
   "metadata": {},
   "outputs": [],
   "source": [
    "ipd.Audio(signal_composite , rate=sampling_rate) "
   ]
  },
  {
   "cell_type": "code",
   "execution_count": null,
   "metadata": {},
   "outputs": [],
   "source": []
  }
 ],
 "metadata": {
  "kernelspec": {
   "display_name": "Python 3",
   "language": "python",
   "name": "python3"
  },
  "language_info": {
   "codemirror_mode": {
    "name": "ipython",
    "version": 3
   },
   "file_extension": ".py",
   "mimetype": "text/x-python",
   "name": "python",
   "nbconvert_exporter": "python",
   "pygments_lexer": "ipython3",
   "version": "3.8.5"
  },
  "vscode": {
   "interpreter": {
    "hash": "5f6d54787e302131c9e2311d9f80c05b8b781e300025334b559f083b5ed9fffe"
   }
  }
 },
 "nbformat": 4,
 "nbformat_minor": 5
}
